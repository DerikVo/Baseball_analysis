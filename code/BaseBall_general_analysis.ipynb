{
 "cells": [
  {
   "cell_type": "code",
   "execution_count": 1,
   "id": "c9338a65-f9b9-4a66-905c-ce2648aeefc6",
   "metadata": {},
   "outputs": [],
   "source": [
    "import pandas as pd\n",
    "import numpy as np\n",
    "import matplotlib.pyplot as plt\n",
    "import seaborn as sns"
   ]
  },
  {
   "cell_type": "code",
   "execution_count": 2,
   "id": "6994492c-b74d-44d0-bc4e-f4d923c7c9cf",
   "metadata": {},
   "outputs": [],
   "source": [
    "df = pd.read_csv('../mats/2023-nwbc-data.csv')"
   ]
  },
  {
   "cell_type": "code",
   "execution_count": 3,
   "id": "9475076b-d6a2-4571-98ce-1b03ec843fc9",
   "metadata": {},
   "outputs": [
    {
     "data": {
      "text/plain": [
       "(736626, 95)"
      ]
     },
     "execution_count": 3,
     "metadata": {},
     "output_type": "execute_result"
    }
   ],
   "source": [
    "df.shape"
   ]
  },
  {
   "cell_type": "code",
   "execution_count": 4,
   "id": "41038b7e-a828-4d58-b710-a9a4bd797ba5",
   "metadata": {},
   "outputs": [],
   "source": [
    "df['is_strike'] = 0\n",
    "strike_events = ['called_strike', 'swinging_strike',\n",
    "       'foul', 'blocked_ball', 'swinging_strike_blocked', 'hit_by_pitch',\n",
    "       'foul_tip', 'foul_bunt', 'missed_bunt', 'bunt_foul_tip']\n",
    "df.loc[df['description'].isin(strike_events), 'is_strike'] = 1\n",
    "\n",
    "_df = df.loc[:, ['pitcher_name', 'pitch_name', 'is_strike']].groupby(['pitcher_name','pitch_name']).agg(n_pitches = ('is_strike','count')).reset_index()\n",
    "df2 = df.merge(_df, on=['pitcher_name','pitch_name'])\n",
    "df2 = df2.loc[df2['n_pitches']>=100]\n",
    "\n",
    "df2['runs_scored'] = df2['post_bat_score'] - df2['bat_score']"
   ]
  },
  {
   "cell_type": "code",
   "execution_count": 5,
   "id": "e99c7ed6-12e0-4d4e-bb3e-41e8e1630d82",
   "metadata": {},
   "outputs": [
    {
     "data": {
      "text/plain": [
       "(672545, 98)"
      ]
     },
     "execution_count": 5,
     "metadata": {},
     "output_type": "execute_result"
    }
   ],
   "source": [
    "df2.shape"
   ]
  },
  {
   "cell_type": "code",
   "execution_count": 6,
   "id": "fb4c1833-16c8-46f7-a127-1c2f8faccb72",
   "metadata": {},
   "outputs": [
    {
     "data": {
      "text/html": [
       "<div>\n",
       "<style scoped>\n",
       "    .dataframe tbody tr th:only-of-type {\n",
       "        vertical-align: middle;\n",
       "    }\n",
       "\n",
       "    .dataframe tbody tr th {\n",
       "        vertical-align: top;\n",
       "    }\n",
       "\n",
       "    .dataframe thead th {\n",
       "        text-align: right;\n",
       "    }\n",
       "</style>\n",
       "<table border=\"1\" class=\"dataframe\">\n",
       "  <thead>\n",
       "    <tr style=\"text-align: right;\">\n",
       "      <th></th>\n",
       "      <th>n_pitches</th>\n",
       "      <th>runs_scored</th>\n",
       "    </tr>\n",
       "  </thead>\n",
       "  <tbody>\n",
       "    <tr>\n",
       "      <th>count</th>\n",
       "      <td>672545.000000</td>\n",
       "      <td>672545.000000</td>\n",
       "    </tr>\n",
       "    <tr>\n",
       "      <th>mean</th>\n",
       "      <td>563.028991</td>\n",
       "      <td>0.028695</td>\n",
       "    </tr>\n",
       "    <tr>\n",
       "      <th>std</th>\n",
       "      <td>354.677992</td>\n",
       "      <td>0.209070</td>\n",
       "    </tr>\n",
       "    <tr>\n",
       "      <th>min</th>\n",
       "      <td>100.000000</td>\n",
       "      <td>0.000000</td>\n",
       "    </tr>\n",
       "    <tr>\n",
       "      <th>25%</th>\n",
       "      <td>290.000000</td>\n",
       "      <td>0.000000</td>\n",
       "    </tr>\n",
       "    <tr>\n",
       "      <th>50%</th>\n",
       "      <td>482.000000</td>\n",
       "      <td>0.000000</td>\n",
       "    </tr>\n",
       "    <tr>\n",
       "      <th>75%</th>\n",
       "      <td>754.000000</td>\n",
       "      <td>0.000000</td>\n",
       "    </tr>\n",
       "    <tr>\n",
       "      <th>max</th>\n",
       "      <td>1848.000000</td>\n",
       "      <td>4.000000</td>\n",
       "    </tr>\n",
       "  </tbody>\n",
       "</table>\n",
       "</div>"
      ],
      "text/plain": [
       "           n_pitches    runs_scored\n",
       "count  672545.000000  672545.000000\n",
       "mean      563.028991       0.028695\n",
       "std       354.677992       0.209070\n",
       "min       100.000000       0.000000\n",
       "25%       290.000000       0.000000\n",
       "50%       482.000000       0.000000\n",
       "75%       754.000000       0.000000\n",
       "max      1848.000000       4.000000"
      ]
     },
     "execution_count": 6,
     "metadata": {},
     "output_type": "execute_result"
    }
   ],
   "source": [
    "df2.iloc[:,-2:].describe()"
   ]
  },
  {
   "cell_type": "code",
   "execution_count": 14,
   "id": "bf9493fe-04cc-49f7-9d5c-654d49f58e8e",
   "metadata": {},
   "outputs": [
    {
     "data": {
      "text/html": [
       "<div>\n",
       "<style scoped>\n",
       "    .dataframe tbody tr th:only-of-type {\n",
       "        vertical-align: middle;\n",
       "    }\n",
       "\n",
       "    .dataframe tbody tr th {\n",
       "        vertical-align: top;\n",
       "    }\n",
       "\n",
       "    .dataframe thead th {\n",
       "        text-align: right;\n",
       "    }\n",
       "</style>\n",
       "<table border=\"1\" class=\"dataframe\">\n",
       "  <thead>\n",
       "    <tr style=\"text-align: right;\">\n",
       "      <th></th>\n",
       "      <th>pitcher_name</th>\n",
       "      <th>pitcher</th>\n",
       "      <th>runs_scored</th>\n",
       "      <th>n_innings</th>\n",
       "      <th>era</th>\n",
       "    </tr>\n",
       "  </thead>\n",
       "  <tbody>\n",
       "    <tr>\n",
       "      <th>0</th>\n",
       "      <td>Abbott, Cory</td>\n",
       "      <td>676265</td>\n",
       "      <td>25</td>\n",
       "      <td>52</td>\n",
       "      <td>4.326923</td>\n",
       "    </tr>\n",
       "    <tr>\n",
       "      <th>1</th>\n",
       "      <td>Abreu, Albert</td>\n",
       "      <td>656061</td>\n",
       "      <td>12</td>\n",
       "      <td>51</td>\n",
       "      <td>2.117647</td>\n",
       "    </tr>\n",
       "    <tr>\n",
       "      <th>2</th>\n",
       "      <td>Abreu, Bryan</td>\n",
       "      <td>650556</td>\n",
       "      <td>26</td>\n",
       "      <td>81</td>\n",
       "      <td>2.888889</td>\n",
       "    </tr>\n",
       "    <tr>\n",
       "      <th>3</th>\n",
       "      <td>Acevedo, Domingo</td>\n",
       "      <td>642758</td>\n",
       "      <td>32</td>\n",
       "      <td>82</td>\n",
       "      <td>3.512195</td>\n",
       "    </tr>\n",
       "    <tr>\n",
       "      <th>4</th>\n",
       "      <td>Adam, Jason</td>\n",
       "      <td>592094</td>\n",
       "      <td>14</td>\n",
       "      <td>77</td>\n",
       "      <td>1.636364</td>\n",
       "    </tr>\n",
       "  </tbody>\n",
       "</table>\n",
       "</div>"
      ],
      "text/plain": [
       "       pitcher_name  pitcher  runs_scored  n_innings       era\n",
       "0      Abbott, Cory   676265           25         52  4.326923\n",
       "1     Abreu, Albert   656061           12         51  2.117647\n",
       "2      Abreu, Bryan   650556           26         81  2.888889\n",
       "3  Acevedo, Domingo   642758           32         82  3.512195\n",
       "4       Adam, Jason   592094           14         77  1.636364"
      ]
     },
     "execution_count": 14,
     "metadata": {},
     "output_type": "execute_result"
    }
   ],
   "source": [
    "era=(df2\n",
    " .loc[:,['pitcher_name','pitcher','runs_scored']]\n",
    " .groupby(['pitcher_name','pitcher'],as_index=False)\n",
    " .sum())\n",
    "\n",
    "#Important to know this takes filtered data and counts partial innings as full innings\n",
    "_df = df2.loc[:,['pitcher','game_pk','inning']].drop_duplicates()\n",
    "_df = (_df['pitcher']\n",
    "       .value_counts()\n",
    "       .to_frame().reset_index()\n",
    "       .rename(columns={'index':'pitcher'\n",
    "                        , 'pitcher':'n_innings'}))\n",
    "\n",
    "era = era.merge(_df, on=['pitcher'])\n",
    "era['era'] = (era['runs_scored']/era['n_innings'])*9\n",
    "era.head()"
   ]
  },
  {
   "cell_type": "code",
   "execution_count": null,
   "id": "82338288-3807-4e4e-80c4-9169a2c2fcaa",
   "metadata": {},
   "outputs": [],
   "source": []
  }
 ],
 "metadata": {
  "kernelspec": {
   "display_name": "Python [conda env:root] *",
   "language": "python",
   "name": "conda-root-py"
  },
  "language_info": {
   "codemirror_mode": {
    "name": "ipython",
    "version": 3
   },
   "file_extension": ".py",
   "mimetype": "text/x-python",
   "name": "python",
   "nbconvert_exporter": "python",
   "pygments_lexer": "ipython3",
   "version": "3.9.13"
  }
 },
 "nbformat": 4,
 "nbformat_minor": 5
}
