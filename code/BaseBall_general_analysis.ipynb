{
 "cells": [
  {
   "cell_type": "code",
   "execution_count": 1,
   "id": "c9338a65-f9b9-4a66-905c-ce2648aeefc6",
   "metadata": {},
   "outputs": [],
   "source": [
    "import pandas as pd\n",
    "import numpy as np\n",
    "import matplotlib.pyplot as plt\n",
    "import seaborn as sns\n",
    "from scipy.stats import pearsonr, spearmanr, ttest_ind\n",
    "from sklearn.metrics import mean_squared_error"
   ]
  },
  {
   "cell_type": "code",
   "execution_count": 2,
   "id": "6994492c-b74d-44d0-bc4e-f4d923c7c9cf",
   "metadata": {},
   "outputs": [],
   "source": [
    "df = pd.read_csv('../mats/2023-nwbc-data.csv')"
   ]
  },
  {
   "cell_type": "code",
   "execution_count": 3,
   "id": "9475076b-d6a2-4571-98ce-1b03ec843fc9",
   "metadata": {},
   "outputs": [
    {
     "data": {
      "text/plain": [
       "(736626, 95)"
      ]
     },
     "execution_count": 3,
     "metadata": {},
     "output_type": "execute_result"
    }
   ],
   "source": [
    "df.shape"
   ]
  },
  {
   "cell_type": "code",
   "execution_count": 4,
   "id": "41038b7e-a828-4d58-b710-a9a4bd797ba5",
   "metadata": {},
   "outputs": [],
   "source": [
    "df['is_strike'] = 0\n",
    "strike_events = ['called_strike', 'swinging_strike',\n",
    "       'foul', 'blocked_ball', 'swinging_strike_blocked', 'hit_by_pitch',\n",
    "       'foul_tip', 'foul_bunt', 'missed_bunt', 'bunt_foul_tip']\n",
    "df.loc[df['description'].isin(strike_events), 'is_strike'] = 1\n",
    "\n",
    "_df = df.loc[:, ['pitcher_name', 'pitch_name', 'is_strike']].groupby(['pitcher_name','pitch_name']).agg(n_pitches = ('is_strike','count')).reset_index()\n",
    "df2 = df.merge(_df, on=['pitcher_name','pitch_name'])\n",
    "df2 = df2.loc[df2['n_pitches']>=100]\n",
    "\n",
    "df2['runs_scored'] = df2['post_bat_score'] - df2['bat_score']"
   ]
  },
  {
   "cell_type": "code",
   "execution_count": 5,
   "id": "e99c7ed6-12e0-4d4e-bb3e-41e8e1630d82",
   "metadata": {},
   "outputs": [
    {
     "data": {
      "text/plain": [
       "(672545, 98)"
      ]
     },
     "execution_count": 5,
     "metadata": {},
     "output_type": "execute_result"
    }
   ],
   "source": [
    "df2.shape"
   ]
  },
  {
   "cell_type": "code",
   "execution_count": 6,
   "id": "fb4c1833-16c8-46f7-a127-1c2f8faccb72",
   "metadata": {},
   "outputs": [
    {
     "data": {
      "text/html": [
       "<div>\n",
       "<style scoped>\n",
       "    .dataframe tbody tr th:only-of-type {\n",
       "        vertical-align: middle;\n",
       "    }\n",
       "\n",
       "    .dataframe tbody tr th {\n",
       "        vertical-align: top;\n",
       "    }\n",
       "\n",
       "    .dataframe thead th {\n",
       "        text-align: right;\n",
       "    }\n",
       "</style>\n",
       "<table border=\"1\" class=\"dataframe\">\n",
       "  <thead>\n",
       "    <tr style=\"text-align: right;\">\n",
       "      <th></th>\n",
       "      <th>n_pitches</th>\n",
       "      <th>runs_scored</th>\n",
       "    </tr>\n",
       "  </thead>\n",
       "  <tbody>\n",
       "    <tr>\n",
       "      <th>count</th>\n",
       "      <td>672545.000000</td>\n",
       "      <td>672545.000000</td>\n",
       "    </tr>\n",
       "    <tr>\n",
       "      <th>mean</th>\n",
       "      <td>563.028991</td>\n",
       "      <td>0.028695</td>\n",
       "    </tr>\n",
       "    <tr>\n",
       "      <th>std</th>\n",
       "      <td>354.677992</td>\n",
       "      <td>0.209070</td>\n",
       "    </tr>\n",
       "    <tr>\n",
       "      <th>min</th>\n",
       "      <td>100.000000</td>\n",
       "      <td>0.000000</td>\n",
       "    </tr>\n",
       "    <tr>\n",
       "      <th>25%</th>\n",
       "      <td>290.000000</td>\n",
       "      <td>0.000000</td>\n",
       "    </tr>\n",
       "    <tr>\n",
       "      <th>50%</th>\n",
       "      <td>482.000000</td>\n",
       "      <td>0.000000</td>\n",
       "    </tr>\n",
       "    <tr>\n",
       "      <th>75%</th>\n",
       "      <td>754.000000</td>\n",
       "      <td>0.000000</td>\n",
       "    </tr>\n",
       "    <tr>\n",
       "      <th>max</th>\n",
       "      <td>1848.000000</td>\n",
       "      <td>4.000000</td>\n",
       "    </tr>\n",
       "  </tbody>\n",
       "</table>\n",
       "</div>"
      ],
      "text/plain": [
       "           n_pitches    runs_scored\n",
       "count  672545.000000  672545.000000\n",
       "mean      563.028991       0.028695\n",
       "std       354.677992       0.209070\n",
       "min       100.000000       0.000000\n",
       "25%       290.000000       0.000000\n",
       "50%       482.000000       0.000000\n",
       "75%       754.000000       0.000000\n",
       "max      1848.000000       4.000000"
      ]
     },
     "execution_count": 6,
     "metadata": {},
     "output_type": "execute_result"
    }
   ],
   "source": [
    "df2.iloc[:,-2:].describe()"
   ]
  },
  {
   "cell_type": "markdown",
   "id": "38370fc5-a28a-41f9-b75e-fbce0e719807",
   "metadata": {},
   "source": [
    "# Earned average run (ERA)"
   ]
  },
  {
   "cell_type": "code",
   "execution_count": 7,
   "id": "bf9493fe-04cc-49f7-9d5c-654d49f58e8e",
   "metadata": {},
   "outputs": [
    {
     "data": {
      "text/html": [
       "<div>\n",
       "<style scoped>\n",
       "    .dataframe tbody tr th:only-of-type {\n",
       "        vertical-align: middle;\n",
       "    }\n",
       "\n",
       "    .dataframe tbody tr th {\n",
       "        vertical-align: top;\n",
       "    }\n",
       "\n",
       "    .dataframe thead th {\n",
       "        text-align: right;\n",
       "    }\n",
       "</style>\n",
       "<table border=\"1\" class=\"dataframe\">\n",
       "  <thead>\n",
       "    <tr style=\"text-align: right;\">\n",
       "      <th></th>\n",
       "      <th>pitcher_name</th>\n",
       "      <th>pitcher</th>\n",
       "      <th>runs_scored</th>\n",
       "      <th>n_innings</th>\n",
       "      <th>era</th>\n",
       "    </tr>\n",
       "  </thead>\n",
       "  <tbody>\n",
       "    <tr>\n",
       "      <th>0</th>\n",
       "      <td>Abbott, Cory</td>\n",
       "      <td>676265</td>\n",
       "      <td>25</td>\n",
       "      <td>52</td>\n",
       "      <td>4.326923</td>\n",
       "    </tr>\n",
       "    <tr>\n",
       "      <th>1</th>\n",
       "      <td>Abreu, Albert</td>\n",
       "      <td>656061</td>\n",
       "      <td>12</td>\n",
       "      <td>51</td>\n",
       "      <td>2.117647</td>\n",
       "    </tr>\n",
       "    <tr>\n",
       "      <th>2</th>\n",
       "      <td>Abreu, Bryan</td>\n",
       "      <td>650556</td>\n",
       "      <td>26</td>\n",
       "      <td>81</td>\n",
       "      <td>2.888889</td>\n",
       "    </tr>\n",
       "    <tr>\n",
       "      <th>3</th>\n",
       "      <td>Acevedo, Domingo</td>\n",
       "      <td>642758</td>\n",
       "      <td>32</td>\n",
       "      <td>82</td>\n",
       "      <td>3.512195</td>\n",
       "    </tr>\n",
       "    <tr>\n",
       "      <th>4</th>\n",
       "      <td>Adam, Jason</td>\n",
       "      <td>592094</td>\n",
       "      <td>14</td>\n",
       "      <td>77</td>\n",
       "      <td>1.636364</td>\n",
       "    </tr>\n",
       "  </tbody>\n",
       "</table>\n",
       "</div>"
      ],
      "text/plain": [
       "       pitcher_name  pitcher  runs_scored  n_innings       era\n",
       "0      Abbott, Cory   676265           25         52  4.326923\n",
       "1     Abreu, Albert   656061           12         51  2.117647\n",
       "2      Abreu, Bryan   650556           26         81  2.888889\n",
       "3  Acevedo, Domingo   642758           32         82  3.512195\n",
       "4       Adam, Jason   592094           14         77  1.636364"
      ]
     },
     "execution_count": 7,
     "metadata": {},
     "output_type": "execute_result"
    }
   ],
   "source": [
    "era=(df2\n",
    " .loc[:,['pitcher_name','pitcher','runs_scored']]\n",
    " .groupby(['pitcher_name','pitcher'],as_index=False)\n",
    " .sum())\n",
    "\n",
    "#Important to know this takes filtered data and counts partial innings as full innings\n",
    "_df = df2.loc[:,['pitcher','game_pk','inning']].drop_duplicates()\n",
    "_df = (_df['pitcher']\n",
    "       .value_counts()\n",
    "       .to_frame().reset_index()\n",
    "       .rename(columns={'index':'pitcher'\n",
    "                        , 'pitcher':'n_innings'}))\n",
    "\n",
    "era = era.merge(_df, on=['pitcher'])\n",
    "era['era'] = (era['runs_scored']/era['n_innings'])*9\n",
    "era.head()"
   ]
  },
  {
   "cell_type": "markdown",
   "id": "4296bf89-df24-473d-9a4a-899d9456d944",
   "metadata": {},
   "source": [
    "# strike outs"
   ]
  },
  {
   "cell_type": "code",
   "execution_count": 8,
   "id": "ccf763a4-7df2-414a-a959-f077550d72bd",
   "metadata": {},
   "outputs": [],
   "source": [
    "strikeout_events = ['strikeout','strkeout_double_play']\n",
    "df2['strikeout']=0\n",
    "df2.loc[df2['events'].isin(strikeout_events), 'strikeout'] = 1\n",
    "_df = (df2\n",
    "       .loc[:, ['pitcher_name','pitcher','strikeout']]\n",
    "       .groupby(['pitcher_name','pitcher'], as_index=False)\n",
    "       .sum())\n",
    "era = era.merge(_df, on=['pitcher_name','pitcher'])"
   ]
  },
  {
   "cell_type": "code",
   "execution_count": 9,
   "id": "dfe915a3-0680-4080-b4eb-3789095d997f",
   "metadata": {},
   "outputs": [],
   "source": [
    "#strike outs per 9 innings\n",
    "era['k9'] = (era['strikeout']/era['n_innings'])*9"
   ]
  },
  {
   "cell_type": "code",
   "execution_count": 10,
   "id": "bdc3f77c-4010-49ac-b5f9-e6885e50a972",
   "metadata": {},
   "outputs": [
    {
     "data": {
      "text/html": [
       "<div>\n",
       "<style scoped>\n",
       "    .dataframe tbody tr th:only-of-type {\n",
       "        vertical-align: middle;\n",
       "    }\n",
       "\n",
       "    .dataframe tbody tr th {\n",
       "        vertical-align: top;\n",
       "    }\n",
       "\n",
       "    .dataframe thead th {\n",
       "        text-align: right;\n",
       "    }\n",
       "</style>\n",
       "<table border=\"1\" class=\"dataframe\">\n",
       "  <thead>\n",
       "    <tr style=\"text-align: right;\">\n",
       "      <th></th>\n",
       "      <th>pitcher_name</th>\n",
       "      <th>pitcher</th>\n",
       "      <th>runs_scored</th>\n",
       "      <th>n_innings</th>\n",
       "      <th>era</th>\n",
       "      <th>strikeout</th>\n",
       "      <th>k9</th>\n",
       "    </tr>\n",
       "  </thead>\n",
       "  <tbody>\n",
       "    <tr>\n",
       "      <th>0</th>\n",
       "      <td>Abbott, Cory</td>\n",
       "      <td>676265</td>\n",
       "      <td>25</td>\n",
       "      <td>52</td>\n",
       "      <td>4.326923</td>\n",
       "      <td>45</td>\n",
       "      <td>7.788462</td>\n",
       "    </tr>\n",
       "    <tr>\n",
       "      <th>1</th>\n",
       "      <td>Abreu, Albert</td>\n",
       "      <td>656061</td>\n",
       "      <td>12</td>\n",
       "      <td>51</td>\n",
       "      <td>2.117647</td>\n",
       "      <td>29</td>\n",
       "      <td>5.117647</td>\n",
       "    </tr>\n",
       "    <tr>\n",
       "      <th>2</th>\n",
       "      <td>Abreu, Bryan</td>\n",
       "      <td>650556</td>\n",
       "      <td>26</td>\n",
       "      <td>81</td>\n",
       "      <td>2.888889</td>\n",
       "      <td>101</td>\n",
       "      <td>11.222222</td>\n",
       "    </tr>\n",
       "    <tr>\n",
       "      <th>3</th>\n",
       "      <td>Acevedo, Domingo</td>\n",
       "      <td>642758</td>\n",
       "      <td>32</td>\n",
       "      <td>82</td>\n",
       "      <td>3.512195</td>\n",
       "      <td>58</td>\n",
       "      <td>6.365854</td>\n",
       "    </tr>\n",
       "    <tr>\n",
       "      <th>4</th>\n",
       "      <td>Adam, Jason</td>\n",
       "      <td>592094</td>\n",
       "      <td>14</td>\n",
       "      <td>77</td>\n",
       "      <td>1.636364</td>\n",
       "      <td>77</td>\n",
       "      <td>9.000000</td>\n",
       "    </tr>\n",
       "  </tbody>\n",
       "</table>\n",
       "</div>"
      ],
      "text/plain": [
       "       pitcher_name  pitcher  runs_scored  n_innings       era  strikeout  \\\n",
       "0      Abbott, Cory   676265           25         52  4.326923         45   \n",
       "1     Abreu, Albert   656061           12         51  2.117647         29   \n",
       "2      Abreu, Bryan   650556           26         81  2.888889        101   \n",
       "3  Acevedo, Domingo   642758           32         82  3.512195         58   \n",
       "4       Adam, Jason   592094           14         77  1.636364         77   \n",
       "\n",
       "          k9  \n",
       "0   7.788462  \n",
       "1   5.117647  \n",
       "2  11.222222  \n",
       "3   6.365854  \n",
       "4   9.000000  "
      ]
     },
     "execution_count": 10,
     "metadata": {},
     "output_type": "execute_result"
    }
   ],
   "source": [
    "era.head()"
   ]
  },
  {
   "cell_type": "markdown",
   "id": "68bb8658-f27a-481e-a041-94d2a5444d88",
   "metadata": {},
   "source": [
    "# fielder-independent pitching (FIP)"
   ]
  },
  {
   "cell_type": "code",
   "execution_count": 11,
   "id": "e62b0399-c2e8-4439-8948-12bbe73d3ce8",
   "metadata": {},
   "outputs": [],
   "source": [
    "df2['walk']= 0\n",
    "df2.loc[df2['events']=='walk', 'walk']=1\n",
    "df2['home_run']= 0\n",
    "df2.loc[df2['events']=='home_run', 'home_run']=1\n",
    "_df = (df2\n",
    "        .loc[:, ['pitcher_name','pitcher','walk', 'home_run']]\n",
    "        .groupby(['pitcher_name','pitcher'])\n",
    "        .sum())\n",
    "era = era.merge(_df, on=['pitcher_name','pitcher'])"
   ]
  },
  {
   "cell_type": "code",
   "execution_count": 12,
   "id": "d258a94e-ad37-4fdd-985c-61f1843da53f",
   "metadata": {},
   "outputs": [],
   "source": [
    "era['fip'] = 3+(((era['home_run']*13) + (era['walk']*3) - (era['strikeout']*2)) / (era['n_innings']))"
   ]
  },
  {
   "cell_type": "code",
   "execution_count": 13,
   "id": "3a274ed9-ae88-46c5-949f-311288f06c06",
   "metadata": {},
   "outputs": [
    {
     "data": {
      "text/html": [
       "<div>\n",
       "<style scoped>\n",
       "    .dataframe tbody tr th:only-of-type {\n",
       "        vertical-align: middle;\n",
       "    }\n",
       "\n",
       "    .dataframe tbody tr th {\n",
       "        vertical-align: top;\n",
       "    }\n",
       "\n",
       "    .dataframe thead th {\n",
       "        text-align: right;\n",
       "    }\n",
       "</style>\n",
       "<table border=\"1\" class=\"dataframe\">\n",
       "  <thead>\n",
       "    <tr style=\"text-align: right;\">\n",
       "      <th></th>\n",
       "      <th>pitcher_name</th>\n",
       "      <th>pitcher</th>\n",
       "      <th>runs_scored</th>\n",
       "      <th>n_innings</th>\n",
       "      <th>era</th>\n",
       "      <th>strikeout</th>\n",
       "      <th>k9</th>\n",
       "      <th>walk</th>\n",
       "      <th>home_run</th>\n",
       "      <th>fip</th>\n",
       "    </tr>\n",
       "  </thead>\n",
       "  <tbody>\n",
       "    <tr>\n",
       "      <th>0</th>\n",
       "      <td>Abbott, Cory</td>\n",
       "      <td>676265</td>\n",
       "      <td>25</td>\n",
       "      <td>52</td>\n",
       "      <td>4.326923</td>\n",
       "      <td>45</td>\n",
       "      <td>7.788462</td>\n",
       "      <td>25</td>\n",
       "      <td>12</td>\n",
       "      <td>5.711538</td>\n",
       "    </tr>\n",
       "    <tr>\n",
       "      <th>1</th>\n",
       "      <td>Abreu, Albert</td>\n",
       "      <td>656061</td>\n",
       "      <td>12</td>\n",
       "      <td>51</td>\n",
       "      <td>2.117647</td>\n",
       "      <td>29</td>\n",
       "      <td>5.117647</td>\n",
       "      <td>11</td>\n",
       "      <td>1</td>\n",
       "      <td>2.764706</td>\n",
       "    </tr>\n",
       "    <tr>\n",
       "      <th>2</th>\n",
       "      <td>Abreu, Bryan</td>\n",
       "      <td>650556</td>\n",
       "      <td>26</td>\n",
       "      <td>81</td>\n",
       "      <td>2.888889</td>\n",
       "      <td>101</td>\n",
       "      <td>11.222222</td>\n",
       "      <td>30</td>\n",
       "      <td>2</td>\n",
       "      <td>1.938272</td>\n",
       "    </tr>\n",
       "    <tr>\n",
       "      <th>3</th>\n",
       "      <td>Acevedo, Domingo</td>\n",
       "      <td>642758</td>\n",
       "      <td>32</td>\n",
       "      <td>82</td>\n",
       "      <td>3.512195</td>\n",
       "      <td>58</td>\n",
       "      <td>6.365854</td>\n",
       "      <td>13</td>\n",
       "      <td>9</td>\n",
       "      <td>3.487805</td>\n",
       "    </tr>\n",
       "    <tr>\n",
       "      <th>4</th>\n",
       "      <td>Adam, Jason</td>\n",
       "      <td>592094</td>\n",
       "      <td>14</td>\n",
       "      <td>77</td>\n",
       "      <td>1.636364</td>\n",
       "      <td>77</td>\n",
       "      <td>9.000000</td>\n",
       "      <td>15</td>\n",
       "      <td>5</td>\n",
       "      <td>2.428571</td>\n",
       "    </tr>\n",
       "  </tbody>\n",
       "</table>\n",
       "</div>"
      ],
      "text/plain": [
       "       pitcher_name  pitcher  runs_scored  n_innings       era  strikeout  \\\n",
       "0      Abbott, Cory   676265           25         52  4.326923         45   \n",
       "1     Abreu, Albert   656061           12         51  2.117647         29   \n",
       "2      Abreu, Bryan   650556           26         81  2.888889        101   \n",
       "3  Acevedo, Domingo   642758           32         82  3.512195         58   \n",
       "4       Adam, Jason   592094           14         77  1.636364         77   \n",
       "\n",
       "          k9  walk  home_run       fip  \n",
       "0   7.788462    25        12  5.711538  \n",
       "1   5.117647    11         1  2.764706  \n",
       "2  11.222222    30         2  1.938272  \n",
       "3   6.365854    13         9  3.487805  \n",
       "4   9.000000    15         5  2.428571  "
      ]
     },
     "execution_count": 13,
     "metadata": {},
     "output_type": "execute_result"
    }
   ],
   "source": [
    "era.head()"
   ]
  },
  {
   "cell_type": "markdown",
   "id": "176fac3c-8e98-45c8-a28e-580a848bd3f9",
   "metadata": {},
   "source": [
    "# Data Visualization"
   ]
  },
  {
   "cell_type": "code",
   "execution_count": 14,
   "id": "5e0b44fa-001d-4e61-ade9-b5390f451e40",
   "metadata": {},
   "outputs": [
    {
     "data": {
      "image/png": "[encoded data removed]",
      "text/plain": [
       "<Figure size 600x600 with 3 Axes>"
      ]
     },
     "metadata": {},
     "output_type": "display_data"
    }
   ],
   "source": [
    "sns.jointplot(data=era, x='era', y='fip', kind='reg')\n",
    "plt.show()"
   ]
  },
  {
   "cell_type": "code",
   "execution_count": 15,
   "id": "51f7fb60-2ed6-464d-91fa-d54e6459c2b4",
   "metadata": {},
   "outputs": [
    {
     "data": {
      "image/png": "[encoded data removed]",
      "text/plain": [
       "<Figure size 640x480 with 1 Axes>"
      ]
     },
     "metadata": {},
     "output_type": "display_data"
    }
   ],
   "source": [
    "sns.kdeplot(data=era, x='era', y='fip',fill='True')\n",
    "plt.show()"
   ]
  },
  {
   "cell_type": "markdown",
   "id": "1161f7d5-39e8-46f3-b12c-e618d97fe2c4",
   "metadata": {},
   "source": [
    "#  Stats"
   ]
  },
  {
   "cell_type": "code",
   "execution_count": 16,
   "id": "81e558a6-5910-413d-a278-42c82eac27a3",
   "metadata": {},
   "outputs": [
    {
     "data": {
      "text/html": [
       "<div>\n",
       "<style scoped>\n",
       "    .dataframe tbody tr th:only-of-type {\n",
       "        vertical-align: middle;\n",
       "    }\n",
       "\n",
       "    .dataframe tbody tr th {\n",
       "        vertical-align: top;\n",
       "    }\n",
       "\n",
       "    .dataframe thead th {\n",
       "        text-align: right;\n",
       "    }\n",
       "</style>\n",
       "<table border=\"1\" class=\"dataframe\">\n",
       "  <thead>\n",
       "    <tr style=\"text-align: right;\">\n",
       "      <th></th>\n",
       "      <th>fip</th>\n",
       "      <th>era</th>\n",
       "      <th>k9</th>\n",
       "    </tr>\n",
       "  </thead>\n",
       "  <tbody>\n",
       "    <tr>\n",
       "      <th>count</th>\n",
       "      <td>632.000000</td>\n",
       "      <td>632.000000</td>\n",
       "      <td>632.000000</td>\n",
       "    </tr>\n",
       "    <tr>\n",
       "      <th>mean</th>\n",
       "      <td>3.651918</td>\n",
       "      <td>3.693438</td>\n",
       "      <td>6.801823</td>\n",
       "    </tr>\n",
       "    <tr>\n",
       "      <th>std</th>\n",
       "      <td>0.987219</td>\n",
       "      <td>1.345245</td>\n",
       "      <td>2.378781</td>\n",
       "    </tr>\n",
       "    <tr>\n",
       "      <th>min</th>\n",
       "      <td>1.000000</td>\n",
       "      <td>0.000000</td>\n",
       "      <td>0.000000</td>\n",
       "    </tr>\n",
       "    <tr>\n",
       "      <th>25%</th>\n",
       "      <td>2.987269</td>\n",
       "      <td>2.789156</td>\n",
       "      <td>5.400000</td>\n",
       "    </tr>\n",
       "    <tr>\n",
       "      <th>50%</th>\n",
       "      <td>3.584524</td>\n",
       "      <td>3.613715</td>\n",
       "      <td>6.947368</td>\n",
       "    </tr>\n",
       "    <tr>\n",
       "      <th>75%</th>\n",
       "      <td>4.137987</td>\n",
       "      <td>4.414468</td>\n",
       "      <td>8.417677</td>\n",
       "    </tr>\n",
       "    <tr>\n",
       "      <th>max</th>\n",
       "      <td>9.777778</td>\n",
       "      <td>9.000000</td>\n",
       "      <td>15.464789</td>\n",
       "    </tr>\n",
       "  </tbody>\n",
       "</table>\n",
       "</div>"
      ],
      "text/plain": [
       "              fip         era          k9\n",
       "count  632.000000  632.000000  632.000000\n",
       "mean     3.651918    3.693438    6.801823\n",
       "std      0.987219    1.345245    2.378781\n",
       "min      1.000000    0.000000    0.000000\n",
       "25%      2.987269    2.789156    5.400000\n",
       "50%      3.584524    3.613715    6.947368\n",
       "75%      4.137987    4.414468    8.417677\n",
       "max      9.777778    9.000000   15.464789"
      ]
     },
     "execution_count": 16,
     "metadata": {},
     "output_type": "execute_result"
    }
   ],
   "source": [
    "era[['fip','era','k9']].describe()"
   ]
  },
  {
   "cell_type": "code",
   "execution_count": 17,
   "id": "eafcaf3f-2790-4b83-8274-d080a130f98b",
   "metadata": {},
   "outputs": [
    {
     "data": {
      "text/plain": [
       "(0.8571428571428571, 9.0)"
      ]
     },
     "execution_count": 17,
     "metadata": {},
     "output_type": "execute_result"
    }
   ],
   "source": [
    "era['era'].quantile(.01), era['era'].quantile(.999)"
   ]
  },
  {
   "cell_type": "code",
   "execution_count": 18,
   "id": "dcb32a9c-eb0b-4e57-834c-bc17ceb7c68c",
   "metadata": {},
   "outputs": [
    {
     "data": {
      "text/html": [
       "<div>\n",
       "<style scoped>\n",
       "    .dataframe tbody tr th:only-of-type {\n",
       "        vertical-align: middle;\n",
       "    }\n",
       "\n",
       "    .dataframe tbody tr th {\n",
       "        vertical-align: top;\n",
       "    }\n",
       "\n",
       "    .dataframe thead th {\n",
       "        text-align: right;\n",
       "    }\n",
       "</style>\n",
       "<table border=\"1\" class=\"dataframe\">\n",
       "  <thead>\n",
       "    <tr style=\"text-align: right;\">\n",
       "      <th></th>\n",
       "      <th>fip</th>\n",
       "      <th>era</th>\n",
       "      <th>k9</th>\n",
       "    </tr>\n",
       "  </thead>\n",
       "  <tbody>\n",
       "    <tr>\n",
       "      <th>fip</th>\n",
       "      <td>1.000000</td>\n",
       "      <td>0.569968</td>\n",
       "      <td>-0.423126</td>\n",
       "    </tr>\n",
       "    <tr>\n",
       "      <th>era</th>\n",
       "      <td>0.569968</td>\n",
       "      <td>1.000000</td>\n",
       "      <td>0.013280</td>\n",
       "    </tr>\n",
       "    <tr>\n",
       "      <th>k9</th>\n",
       "      <td>-0.423126</td>\n",
       "      <td>0.013280</td>\n",
       "      <td>1.000000</td>\n",
       "    </tr>\n",
       "  </tbody>\n",
       "</table>\n",
       "</div>"
      ],
      "text/plain": [
       "          fip       era        k9\n",
       "fip  1.000000  0.569968 -0.423126\n",
       "era  0.569968  1.000000  0.013280\n",
       "k9  -0.423126  0.013280  1.000000"
      ]
     },
     "execution_count": 18,
     "metadata": {},
     "output_type": "execute_result"
    }
   ],
   "source": [
    "era.loc[:, ['fip','era','k9']].corr()"
   ]
  },
  {
   "cell_type": "code",
   "execution_count": 19,
   "id": "5af3c5e7-b4e1-4f50-83b7-bab8ad7774cf",
   "metadata": {},
   "outputs": [
    {
     "data": {
      "text/html": [
       "<div>\n",
       "<style scoped>\n",
       "    .dataframe tbody tr th:only-of-type {\n",
       "        vertical-align: middle;\n",
       "    }\n",
       "\n",
       "    .dataframe tbody tr th {\n",
       "        vertical-align: top;\n",
       "    }\n",
       "\n",
       "    .dataframe thead th {\n",
       "        text-align: right;\n",
       "    }\n",
       "</style>\n",
       "<table border=\"1\" class=\"dataframe\">\n",
       "  <thead>\n",
       "    <tr style=\"text-align: right;\">\n",
       "      <th></th>\n",
       "      <th>fip</th>\n",
       "      <th>era</th>\n",
       "      <th>k9</th>\n",
       "    </tr>\n",
       "  </thead>\n",
       "  <tbody>\n",
       "    <tr>\n",
       "      <th>fip</th>\n",
       "      <td>1.000000</td>\n",
       "      <td>0.324864</td>\n",
       "      <td>0.179035</td>\n",
       "    </tr>\n",
       "    <tr>\n",
       "      <th>era</th>\n",
       "      <td>0.324864</td>\n",
       "      <td>1.000000</td>\n",
       "      <td>0.000176</td>\n",
       "    </tr>\n",
       "    <tr>\n",
       "      <th>k9</th>\n",
       "      <td>0.179035</td>\n",
       "      <td>0.000176</td>\n",
       "      <td>1.000000</td>\n",
       "    </tr>\n",
       "  </tbody>\n",
       "</table>\n",
       "</div>"
      ],
      "text/plain": [
       "          fip       era        k9\n",
       "fip  1.000000  0.324864  0.179035\n",
       "era  0.324864  1.000000  0.000176\n",
       "k9   0.179035  0.000176  1.000000"
      ]
     },
     "execution_count": 19,
     "metadata": {},
     "output_type": "execute_result"
    }
   ],
   "source": [
    "era.loc[:, ['fip','era','k9']].corr()**2"
   ]
  },
  {
   "cell_type": "code",
   "execution_count": 20,
   "id": "5147a0c9-8ae3-47fc-8b2b-42c61f405c6c",
   "metadata": {},
   "outputs": [],
   "source": [
    "era['era_plus'] = (era['era'] / era['era'].mean())*100"
   ]
  },
  {
   "cell_type": "code",
   "execution_count": 21,
   "id": "318d0276-e694-4bab-bb19-406e113cfdde",
   "metadata": {},
   "outputs": [
    {
     "data": {
      "text/html": [
       "<div>\n",
       "<style scoped>\n",
       "    .dataframe tbody tr th:only-of-type {\n",
       "        vertical-align: middle;\n",
       "    }\n",
       "\n",
       "    .dataframe tbody tr th {\n",
       "        vertical-align: top;\n",
       "    }\n",
       "\n",
       "    .dataframe thead th {\n",
       "        text-align: right;\n",
       "    }\n",
       "</style>\n",
       "<table border=\"1\" class=\"dataframe\">\n",
       "  <thead>\n",
       "    <tr style=\"text-align: right;\">\n",
       "      <th></th>\n",
       "      <th>pitcher_name</th>\n",
       "      <th>pitcher</th>\n",
       "      <th>runs_scored</th>\n",
       "      <th>n_innings</th>\n",
       "      <th>era</th>\n",
       "      <th>strikeout</th>\n",
       "      <th>k9</th>\n",
       "      <th>walk</th>\n",
       "      <th>home_run</th>\n",
       "      <th>fip</th>\n",
       "      <th>era_plus</th>\n",
       "    </tr>\n",
       "  </thead>\n",
       "  <tbody>\n",
       "    <tr>\n",
       "      <th>0</th>\n",
       "      <td>Abbott, Cory</td>\n",
       "      <td>676265</td>\n",
       "      <td>25</td>\n",
       "      <td>52</td>\n",
       "      <td>4.326923</td>\n",
       "      <td>45</td>\n",
       "      <td>7.788462</td>\n",
       "      <td>25</td>\n",
       "      <td>12</td>\n",
       "      <td>5.711538</td>\n",
       "      <td>117.151622</td>\n",
       "    </tr>\n",
       "    <tr>\n",
       "      <th>1</th>\n",
       "      <td>Abreu, Albert</td>\n",
       "      <td>656061</td>\n",
       "      <td>12</td>\n",
       "      <td>51</td>\n",
       "      <td>2.117647</td>\n",
       "      <td>29</td>\n",
       "      <td>5.117647</td>\n",
       "      <td>11</td>\n",
       "      <td>1</td>\n",
       "      <td>2.764706</td>\n",
       "      <td>57.335382</td>\n",
       "    </tr>\n",
       "    <tr>\n",
       "      <th>2</th>\n",
       "      <td>Abreu, Bryan</td>\n",
       "      <td>650556</td>\n",
       "      <td>26</td>\n",
       "      <td>81</td>\n",
       "      <td>2.888889</td>\n",
       "      <td>101</td>\n",
       "      <td>11.222222</td>\n",
       "      <td>30</td>\n",
       "      <td>2</td>\n",
       "      <td>1.938272</td>\n",
       "      <td>78.216787</td>\n",
       "    </tr>\n",
       "    <tr>\n",
       "      <th>3</th>\n",
       "      <td>Acevedo, Domingo</td>\n",
       "      <td>642758</td>\n",
       "      <td>32</td>\n",
       "      <td>82</td>\n",
       "      <td>3.512195</td>\n",
       "      <td>58</td>\n",
       "      <td>6.365854</td>\n",
       "      <td>13</td>\n",
       "      <td>9</td>\n",
       "      <td>3.487805</td>\n",
       "      <td>95.092829</td>\n",
       "    </tr>\n",
       "    <tr>\n",
       "      <th>4</th>\n",
       "      <td>Adam, Jason</td>\n",
       "      <td>592094</td>\n",
       "      <td>14</td>\n",
       "      <td>77</td>\n",
       "      <td>1.636364</td>\n",
       "      <td>77</td>\n",
       "      <td>9.000000</td>\n",
       "      <td>15</td>\n",
       "      <td>5</td>\n",
       "      <td>2.428571</td>\n",
       "      <td>44.304613</td>\n",
       "    </tr>\n",
       "  </tbody>\n",
       "</table>\n",
       "</div>"
      ],
      "text/plain": [
       "       pitcher_name  pitcher  runs_scored  n_innings       era  strikeout  \\\n",
       "0      Abbott, Cory   676265           25         52  4.326923         45   \n",
       "1     Abreu, Albert   656061           12         51  2.117647         29   \n",
       "2      Abreu, Bryan   650556           26         81  2.888889        101   \n",
       "3  Acevedo, Domingo   642758           32         82  3.512195         58   \n",
       "4       Adam, Jason   592094           14         77  1.636364         77   \n",
       "\n",
       "          k9  walk  home_run       fip    era_plus  \n",
       "0   7.788462    25        12  5.711538  117.151622  \n",
       "1   5.117647    11         1  2.764706   57.335382  \n",
       "2  11.222222    30         2  1.938272   78.216787  \n",
       "3   6.365854    13         9  3.487805   95.092829  \n",
       "4   9.000000    15         5  2.428571   44.304613  "
      ]
     },
     "execution_count": 21,
     "metadata": {},
     "output_type": "execute_result"
    }
   ],
   "source": [
    "era.head()"
   ]
  },
  {
   "cell_type": "code",
   "execution_count": 22,
   "id": "0990dddb-db62-4aea-9e94-992269da7d0b",
   "metadata": {},
   "outputs": [
    {
     "data": {
      "text/plain": [
       "count    632.000000\n",
       "mean     100.000000\n",
       "std       36.422553\n",
       "min        0.000000\n",
       "25%       75.516510\n",
       "50%       97.841486\n",
       "75%      119.521900\n",
       "max      243.675373\n",
       "Name: era_plus, dtype: float64"
      ]
     },
     "execution_count": 22,
     "metadata": {},
     "output_type": "execute_result"
    }
   ],
   "source": [
    "era['era_plus'].describe()"
   ]
  },
  {
   "cell_type": "code",
   "execution_count": 23,
   "id": "e3f8635b-0f5a-4fcb-b879-cb47429d6b11",
   "metadata": {},
   "outputs": [
    {
     "data": {
      "image/png": "[encoded data removed]",
      "text/plain": [
       "<Figure size 640x480 with 1 Axes>"
      ]
     },
     "metadata": {},
     "output_type": "display_data"
    }
   ],
   "source": [
    "sns.histplot([era['era']])\n",
    "plt.show()"
   ]
  },
  {
   "cell_type": "code",
   "execution_count": 24,
   "id": "c9be5e38-8978-48c2-99db-bacfd8fbb830",
   "metadata": {},
   "outputs": [
    {
     "data": {
      "text/plain": [
       "(0.5699682005446798, 0.3248637496321403, 1.0072327941855903e-55)"
      ]
     },
     "execution_count": 24,
     "metadata": {},
     "output_type": "execute_result"
    }
   ],
   "source": [
    "#product moment correlation\n",
    "r = pearsonr(era['era'], era['fip'])\n",
    "r2 = r[0]**2\n",
    "r[0], r2, r[-1]"
   ]
  },
  {
   "cell_type": "code",
   "execution_count": 25,
   "id": "15939097-743f-4034-977d-fca3816d7aa0",
   "metadata": {},
   "outputs": [
    {
     "data": {
      "text/plain": [
       "(0.5511332247002545, 0.3037478313685012, 1.70116473641257e-51)"
      ]
     },
     "execution_count": 25,
     "metadata": {},
     "output_type": "execute_result"
    }
   ],
   "source": [
    "#rank order correlation\n",
    "#non normal distribution 30% explained variance\n",
    "sr= spearmanr(era['era'],era['fip'])\n",
    "sr2= sr[0]**2\n",
    "sr[0], sr2, sr[-1]"
   ]
  },
  {
   "cell_type": "code",
   "execution_count": 26,
   "id": "13894606-48ba-45e0-b990-31be56495daa",
   "metadata": {},
   "outputs": [
    {
     "data": {
      "text/plain": [
       "(0.6255572955461834, 0.5317184612159784)"
      ]
     },
     "execution_count": 26,
     "metadata": {},
     "output_type": "execute_result"
    }
   ],
   "source": [
    "t= ttest_ind(era['era'],era['fip'])\n",
    "\n",
    "t[0], t[-1]"
   ]
  },
  {
   "cell_type": "code",
   "execution_count": 32,
   "id": "e62ec47a-3dc8-4d2d-bcbe-f1d397eb822e",
   "metadata": {},
   "outputs": [
    {
     "data": {
      "text/plain": [
       "1.1269891792175113"
      ]
     },
     "execution_count": 32,
     "metadata": {},
     "output_type": "execute_result"
    }
   ],
   "source": [
    "rmse= mean_squared_error(era['era'],era['fip'])**.5\n",
    "rmse"
   ]
  },
  {
   "cell_type": "markdown",
   "id": "0adb8026-26d1-478a-8b59-b5962cc07686",
   "metadata": {},
   "source": [
    "# visualization"
   ]
  },
  {
   "cell_type": "code",
   "execution_count": 27,
   "id": "77a0ad2f-21f2-4948-8aea-2defeb4b5838",
   "metadata": {},
   "outputs": [
    {
     "data": {
      "image/png": "[encoded data removed]",
      "text/plain": [
       "<Figure size 640x480 with 1 Axes>"
      ]
     },
     "metadata": {},
     "output_type": "display_data"
    }
   ],
   "source": [
    "plt.title(f'ERA * FIP \\n t-Value: {round(t[0],3)} \\n P-value {round(t[-1],3)}')\n",
    "sns.histplot(era[['era','fip']])\n",
    "plt.show()"
   ]
  },
  {
   "cell_type": "code",
   "execution_count": 39,
   "id": "9f3705b0-cfb7-45e8-a534-6caaacb35d31",
   "metadata": {},
   "outputs": [
    {
     "data": {
      "image/png": "[encoded data removed]",
      "text/plain": [
       "<Figure size 640x480 with 1 Axes>"
      ]
     },
     "metadata": {},
     "output_type": "display_data"
    }
   ],
   "source": [
    "title= f\"\"\"\n",
    "ERA * FIP \n",
    "Pearson r: {round(r[0],3)} P-value: {round(r[-1],3)}\n",
    "Spearmen r: {round(sr[0],3)} P-value: {round(sr[-1],3)}\n",
    "T-test: {round(t[0],3)} P-value: {round(t[1],3)}\n",
    "RMSE: {round(rmse,3)}\n",
    "\"\"\"\n",
    "\n",
    "plt.title(title)\n",
    "sns.regplot(data=era, x='era',y ='fip')\n",
    "plt.show()"
   ]
  },
  {
   "cell_type": "code",
   "execution_count": null,
   "id": "08eea7e8-7a37-4b54-8da0-6c4b8e1f9a78",
   "metadata": {},
   "outputs": [],
   "source": []
  }
 ],
 "metadata": {
  "kernelspec": {
   "display_name": "Python [conda env:root] *",
   "language": "python",
   "name": "conda-root-py"
  },
  "language_info": {
   "codemirror_mode": {
    "name": "ipython",
    "version": 3
   },
   "file_extension": ".py",
   "mimetype": "text/x-python",
   "name": "python",
   "nbconvert_exporter": "python",
   "pygments_lexer": "ipython3",
   "version": "3.9.13"
  }
 },
 "nbformat": 4,
 "nbformat_minor": 5
}
